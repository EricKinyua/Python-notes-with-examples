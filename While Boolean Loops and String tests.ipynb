{
 "cells": [
  {
   "cell_type": "code",
   "execution_count": null,
   "metadata": {},
   "outputs": [],
   "source": [
    "#Animal  Names Program\n",
    "\n",
    "num_animals=0\n",
    "\n",
    "while num_animals<4:\n",
    "    animal_name=input(\"Enter an animal name or exit\")\n",
    "    num_animals+=1\n",
    "    if animal_name.startswith(\"q\"):\n",
    "        print (\"Goodbye for now\")\n",
    "        break\n",
    "    \n",
    "print(\"This is your list \\n\",animal_name)"
   ]
  },
  {
   "cell_type": "code",
   "execution_count": null,
   "metadata": {},
   "outputs": [],
   "source": [
    "#Program Long number\n",
    "\n",
    "int_num=input(\"Please enter a number: \")\n",
    "long_num=\"\"\n",
    "\n",
    "while int_num.isdigit()==True:\n",
    "    long_num=input(\"Enter a digit:\")\n",
    "    sum=int(int_num)+int(long_num)\n",
    "    print(sum)\n"
   ]
  },
  {
   "cell_type": "code",
   "execution_count": 2,
   "metadata": {},
   "outputs": [
    {
     "name": "stdout",
     "output_type": "stream",
     "text": [
      "2 x 2 = 4\n",
      "3 x 3 = 9\n",
      "4 x 4 = 16\n",
      "5 x 5 = 25\n",
      "6 x 6 = 36\n"
     ]
    }
   ],
   "source": [
    "# [ ] review the code, run, fix the Logic error\n",
    "count = 1\n",
    "\n",
    "# loop 5 times\n",
    "while count < 6:\n",
    "    count+=1\n",
    "    print(count, \"x\", count, \"=\", count*count)\n",
    "    "
   ]
  },
  {
   "cell_type": "code",
   "execution_count": null,
   "metadata": {},
   "outputs": [],
   "source": []
  }
 ],
 "metadata": {
  "kernelspec": {
   "display_name": "Python 3",
   "language": "python",
   "name": "python3"
  },
  "language_info": {
   "codemirror_mode": {
    "name": "ipython",
    "version": 3
   },
   "file_extension": ".py",
   "mimetype": "text/x-python",
   "name": "python",
   "nbconvert_exporter": "python",
   "pygments_lexer": "ipython3",
   "version": "3.7.3"
  }
 },
 "nbformat": 4,
 "nbformat_minor": 2
}
