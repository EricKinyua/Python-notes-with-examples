{
 "cells": [
  {
   "cell_type": "code",
   "execution_count": 3,
   "metadata": {},
   "outputs": [
    {
     "name": "stdout",
     "output_type": "stream",
     "text": [
      "[5, 7, 8]\n"
     ]
    }
   ],
   "source": [
    "three_num=[5,7,8]\n",
    "print(three_num)"
   ]
  },
  {
   "cell_type": "code",
   "execution_count": 4,
   "metadata": {},
   "outputs": [
    {
     "name": "stdout",
     "output_type": "stream",
     "text": [
      "['large', 7, 8]\n"
     ]
    }
   ],
   "source": [
    "if three_num[0]<5:\n",
    "    three_num[0]=\"small\"\n",
    "else:\n",
    "    three_num[0]=\"large\"\n",
    "    \n",
    "print(three_num)"
   ]
  },
  {
   "cell_type": "code",
   "execution_count": 1,
   "metadata": {},
   "outputs": [
    {
     "name": "stdout",
     "output_type": "stream",
     "text": [
      "['Joana', 'Alton', 'Tobias']\n",
      "['Joana', 'Eric', 'Alton', 'Tobias']\n"
     ]
    }
   ],
   "source": [
    "# [ ] insert a name from user input into the party_list in the second position\n",
    "\n",
    "party_list = [\"Joana\", \"Alton\", \"Tobias\"]\n",
    "\n",
    "print(party_list)\n",
    "\n",
    "party_list.insert(1,\"Eric\")\n",
    "\n",
    "print(party_list)"
   ]
  },
  {
   "cell_type": "code",
   "execution_count": 2,
   "metadata": {},
   "outputs": [
    {
     "name": "stdout",
     "output_type": "stream",
     "text": [
      "tree_list before = ['oak']\n",
      "tree_list after  = ['oak', 'pine']\n"
     ]
    }
   ],
   "source": [
    "# [ ] Fix the Error\n",
    "\n",
    "tree_list = [\"oak\"]\n",
    "print(\"tree_list before =\", tree_list)\n",
    "tree_list.insert(1,\"pine\")\n",
    "print(\"tree_list after  =\", tree_list)"
   ]
  },
  {
   "cell_type": "code",
   "execution_count": 3,
   "metadata": {},
   "outputs": [
    {
     "name": "stdout",
     "output_type": "stream",
     "text": [
      "f_t before:    ['calcaneus', 'talus', 'cuboid', 'navicular', 'lateral cuneiform', 'intermediate cuneiform', 'medial cuneiform']\n",
      "f_t bones after:   ['calcaneus', 'talus', 'navicular', 'lateral cuneiform', 'intermediate cuneiform', 'medial cuneiform']\n"
     ]
    }
   ],
   "source": [
    "# [ ] print ft_bones list\n",
    "# [ ] delete \"cuboid\" from ft_bones\n",
    "# [ ] reprint list\n",
    "\n",
    "ft_bones = [\"calcaneus\", \"talus\", \"cuboid\", \"navicular\", \"lateral cuneiform\", \n",
    "            \"intermediate cuneiform\", \"medial cuneiform\"]\n",
    "\n",
    "print(\"f_t before:   \", ft_bones)\n",
    "\n",
    "del ft_bones[2]\n",
    "\n",
    "print(\"f_t bones after:  \",ft_bones)"
   ]
  },
  {
   "cell_type": "code",
   "execution_count": 4,
   "metadata": {},
   "outputs": [
    {
     "name": "stdout",
     "output_type": "stream",
     "text": [
      "f_t before:    ['calcaneus', 'talus', 'cuboid', 'navicular', 'lateral cuneiform', 'intermediate cuneiform', 'medial cuneiform']\n",
      "f_t bones after:   ['calcaneus', 'talus', 'lateral cuneiform', 'intermediate cuneiform', 'medial cuneiform']\n"
     ]
    }
   ],
   "source": [
    "# [ ] print ft_bones list\n",
    "# [ ] delete \"cuboid\" from ft_bones\n",
    "# [ ] delete \"navicular\" from list\n",
    "# [ ] reprint list\n",
    "# [ ] check for deletion of \"cuboid\" and \"navicular\"\n",
    "\n",
    "ft_bones = [\"calcaneus\", \"talus\", \"cuboid\", \"navicular\", \"lateral cuneiform\", \n",
    "            \"intermediate cuneiform\", \"medial cuneiform\"]\n",
    "\n",
    "print(\"f_t before:   \", ft_bones)\n",
    "\n",
    "del ft_bones[2]\n",
    "del ft_bones[2]\n",
    "\n",
    "print(\"f_t bones after:  \",ft_bones)"
   ]
  },
  {
   "cell_type": "code",
   "execution_count": 6,
   "metadata": {},
   "outputs": [
    {
     "name": "stdout",
     "output_type": "stream",
     "text": [
      "medial cuneiform and calcaneus\n",
      "['talus', 'cuboid', 'navicular', 'lateral cuneiform', 'intermediate cuneiform']\n"
     ]
    }
   ],
   "source": [
    "# [ ] pop() and print the first and last items from the ft_bones list\n",
    "\n",
    "ft_bones = [\"calcaneus\", \"talus\", \"cuboid\", \"navicular\", \"lateral cuneiform\", \n",
    "            \"intermediate cuneiform\", \"medial cuneiform\"]\n",
    "\n",
    "\n",
    "bone_one=ft_bones.pop()\n",
    "bone_two=ft_bones.pop(0)\n",
    "\n",
    "print(bone_one, \"and\", bone_two)\n",
    "\n",
    "print(ft_bones)\n"
   ]
  },
  {
   "cell_type": "markdown",
   "metadata": {},
   "source": [
    "Cash Register Input\n",
    "create a empty list purchase_amounts\n",
    "populate the list with user input for the price of items\n",
    "continue adding to list with while until \"done\" is entered\n",
    "can use while True: with break\n",
    "print purchase_amounts\n",
    "continue to pt 2\n",
    "#[ ] complete the Register Input task above\n",
    "\n",
    "\n",
    "Task4 pt 2\n",
    "Cash Register Total\n",
    "create a subtotal variable = 0\n",
    "create a while loop that runs while purchase_amount (is not empty)\n",
    "\n",
    "inside the loop\n",
    "\n",
    "pop() the last list value cast as a float type\n",
    "add the float value to a subtotal variable\n",
    "after exiting the loop print subtotal\n",
    "\n",
    "be sure to populate purchase_amounts by running pt 1 above\n",
    "\n",
    "# [ ] complete the Register Total task above"
   ]
  },
  {
   "cell_type": "code",
   "execution_count": 11,
   "metadata": {},
   "outputs": [
    {
     "name": "stdout",
     "output_type": "stream",
     "text": [
      "['Lab', 'Pug', 'Poodle', 'Poodle', 'Pug', 'Poodle']\n",
      "None\n",
      "['Lab', 'Pug', 'Poodle', 'Pug', 'Poodle']\n"
     ]
    }
   ],
   "source": [
    "# [ ] remove one \"Poodle\" from the list: dogs , or print \"no Poodle found\"\n",
    "# [ ] print list before and after\n",
    "\n",
    "dogs = [\"Lab\", \"Pug\", \"Poodle\", \"Poodle\", \"Pug\", \"Poodle\"]\n",
    "print(dogs)\n",
    "\n",
    "if \"Poodle\" in dogs:\n",
    "    print(dogs.remove(\"Poodle\"))\n",
    "    \n",
    "else:\n",
    "    print(\"No Poodle found\")\n",
    "    \n",
    "    \n",
    "print(dogs)"
   ]
  },
  {
   "cell_type": "code",
   "execution_count": null,
   "metadata": {},
   "outputs": [],
   "source": []
  },
  {
   "cell_type": "code",
   "execution_count": null,
   "metadata": {},
   "outputs": [],
   "source": []
  }
 ],
 "metadata": {
  "kernelspec": {
   "display_name": "Python 3",
   "language": "python",
   "name": "python3"
  },
  "language_info": {
   "codemirror_mode": {
    "name": "ipython",
    "version": 3
   },
   "file_extension": ".py",
   "mimetype": "text/x-python",
   "name": "python",
   "nbconvert_exporter": "python",
   "pygments_lexer": "ipython3",
   "version": "3.7.3"
  }
 },
 "nbformat": 4,
 "nbformat_minor": 2
}
