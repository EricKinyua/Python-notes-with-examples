{
 "cells": [
  {
   "cell_type": "code",
   "execution_count": null,
   "metadata": {},
   "outputs": [],
   "source": [
    "#Program: Multiplying Calculator Function\n",
    "\n",
    "def multiply(input1=input(\"What number should we multiply?\"),input2=input(\"Enter another number?\")):\n",
    "    example=int(input1)*int(input2)\n",
    "    return example\n",
    "print(multiply())"
   ]
  },
  {
   "cell_type": "code",
   "execution_count": 3,
   "metadata": {},
   "outputs": [
    {
     "name": "stdout",
     "output_type": "stream",
     "text": [
      "Input your first number11\n",
      "Enter another number?11\n",
      "What operation would you like perfomed?*\n",
      "Invalid operator\n"
     ]
    }
   ],
   "source": [
    "# [ ] create improved multiply() function and test with /, no argument, and an invalid operator ($)\n",
    "\n",
    "def multiply(input1=input(\"Input your first number\"),input2=input(\"Enter another number?\")):\n",
    "    if \"*\" in example==True:\n",
    "        return int(input1)*int(input2)\n",
    "    elif \"/\" in example==True:\n",
    "        return int(input1)*int(input2)\n",
    "    else:\n",
    "        return \"Invalid operator\"\n",
    "        \n",
    "example=str(input(\"What operation would you like perfomed?\"))\n",
    "\n",
    "print(multiply())"
   ]
  },
  {
   "cell_type": "code",
   "execution_count": 6,
   "metadata": {},
   "outputs": [
    {
     "name": "stdout",
     "output_type": "stream",
     "text": [
      "enter name: Eric\n",
      "Eric please wait for students with names staring with 'F' and 'G' to go first today.\n"
     ]
    }
   ],
   "source": [
    "# Review, run, fix\n",
    "\n",
    "student_name = input(\"enter name: \").capitalize()\n",
    "if student_name.startswith(\"F\"):\n",
    "    print(student_name,\"Congratulations, names starting with 'F' get to go first today!\")\n",
    "elif student_name.startswith(\"G\"):\n",
    "    print(student_name,\"Congratulations, names starting with 'G' get to go second today!\")\n",
    "else:\n",
    "    print(student_name, \"please wait for students with names staring with 'F' and 'G' to go first today.\")"
   ]
  },
  {
   "cell_type": "code",
   "execution_count": null,
   "metadata": {},
   "outputs": [],
   "source": []
  }
 ],
 "metadata": {
  "kernelspec": {
   "display_name": "Python 3",
   "language": "python",
   "name": "python3"
  },
  "language_info": {
   "codemirror_mode": {
    "name": "ipython",
    "version": 3
   },
   "file_extension": ".py",
   "mimetype": "text/x-python",
   "name": "python",
   "nbconvert_exporter": "python",
   "pygments_lexer": "ipython3",
   "version": "3.7.3"
  }
 },
 "nbformat": 4,
 "nbformat_minor": 2
}
