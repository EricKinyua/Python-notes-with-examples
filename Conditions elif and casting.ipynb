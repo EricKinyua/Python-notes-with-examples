{
 "cells": [
  {
   "cell_type": "code",
   "execution_count": 6,
   "metadata": {},
   "outputs": [
    {
     "name": "stdout",
     "output_type": "stream",
     "text": [
      "Enter a guess for the secret number(1-3):one\n",
      "That is not a number\n"
     ]
    }
   ],
   "source": [
    "#SecretNumberGuess\n",
    "\n",
    "secret_num=\"2\"\n",
    "\n",
    "guess=input(\"Enter a guess for the secret number(1-3):\")\n",
    "\n",
    "if guess.isdigit()==False:\n",
    "    print(\"That is not a number\")\n",
    "elif guess==\"1\":\n",
    "    print(\"Your guess is a bit too low\")\n",
    "elif guess==secret_num:\n",
    "    print(\"Bingo!!!\")\n",
    "elif guess==\"3\":\n",
    "    print(\"Your guess is high\")\n",
    "else:\n",
    "    print(\"That is not the specified range\")"
   ]
  },
  {
   "cell_type": "code",
   "execution_count": 10,
   "metadata": {},
   "outputs": [
    {
     "name": "stdout",
     "output_type": "stream",
     "text": [
      "What shirt size are you in (S,M,L):XL\n",
      "This size is not available\n"
     ]
    }
   ],
   "source": [
    "#ShirtSale\n",
    "\n",
    "size=input(\"What shirt size are you in (S,M,L):\")\n",
    "\n",
    "if size.isalpha()==False:\n",
    "    print(\"Please select an appropriate size\")\n",
    "elif size==\"S\":\n",
    "    print(\"Small=6$\")\n",
    "elif size==\"M\":\n",
    "    print(\"Medium=7$\")\n",
    "elif size==\"L\":\n",
    "    print(\"Large=8$\")\n",
    "else:\n",
    "    print(\"This size is not available\")"
   ]
  },
  {
   "cell_type": "code",
   "execution_count": 11,
   "metadata": {},
   "outputs": [
    {
     "name": "stdout",
     "output_type": "stream",
     "text": [
      "31\n"
     ]
    }
   ],
   "source": [
    "str_num_1=\"11\"\n",
    "str_num_2=\"10\"\n",
    "int_num=10\n",
    "\n",
    "sum=int(str_num_1)+int(str_num_2)+int_num\n",
    "\n",
    "print(sum)"
   ]
  },
  {
   "cell_type": "code",
   "execution_count": 12,
   "metadata": {},
   "outputs": [
    {
     "name": "stdout",
     "output_type": "stream",
     "text": [
      "Enter the first number54\n",
      "Enter a second number36\n",
      "90\n"
     ]
    }
   ],
   "source": [
    "num_1=input(\"Enter the first number\")\n",
    "num_2=input(\"Enter a second number\")\n",
    "\n",
    "num_total=int(num_1)+int(num_2)\n",
    "\n",
    "print(num_total)\n"
   ]
  },
  {
   "cell_type": "code",
   "execution_count": null,
   "metadata": {},
   "outputs": [],
   "source": []
  }
 ],
 "metadata": {
  "kernelspec": {
   "display_name": "Python 3",
   "language": "python",
   "name": "python3"
  },
  "language_info": {
   "codemirror_mode": {
    "name": "ipython",
    "version": 3
   },
   "file_extension": ".py",
   "mimetype": "text/x-python",
   "name": "python",
   "nbconvert_exporter": "python",
   "pygments_lexer": "ipython3",
   "version": "3.7.3"
  }
 },
 "nbformat": 4,
 "nbformat_minor": 2
}
