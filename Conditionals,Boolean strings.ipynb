{
 "cells": [
  {
   "cell_type": "code",
   "execution_count": 3,
   "metadata": {},
   "outputs": [
    {
     "name": "stdout",
     "output_type": "stream",
     "text": [
      "Not a good running day\n"
     ]
    }
   ],
   "source": [
    "sunny_today=False\n",
    "\n",
    "if sunny_today:\n",
    "    print(\"Nice day for a run\")\n",
    "    \n",
    "else:\n",
    "    print(\"Not a good running day\")\n",
    "    "
   ]
  },
  {
   "cell_type": "code",
   "execution_count": 2,
   "metadata": {},
   "outputs": [
    {
     "name": "stdout",
     "output_type": "stream",
     "text": [
      "Great Job\n"
     ]
    }
   ],
   "source": [
    "test_string_1=\"welcome\"\n",
    "test_string_2=\"I have $3\"\n",
    "\n",
    "if test_string_1.islower():\n",
    "    print(\"Great Job\")\n",
    "    \n",
    "else:\n",
    "    pass\n",
    "    "
   ]
  },
  {
   "cell_type": "code",
   "execution_count": 1,
   "metadata": {},
   "outputs": [
    {
     "name": "stdout",
     "output_type": "stream",
     "text": [
      "True\n"
     ]
    }
   ],
   "source": [
    "def w_start_test():\n",
    "    test_string_1=\"with a function its effecient to repeat code\".startswith(\"w\")\n",
    "    return test_string_1\n",
    "\n",
    "print(w_start_test())\n",
    "    "
   ]
  },
  {
   "cell_type": "code",
   "execution_count": null,
   "metadata": {},
   "outputs": [],
   "source": []
  }
 ],
 "metadata": {
  "kernelspec": {
   "display_name": "Python 3",
   "language": "python",
   "name": "python3"
  },
  "language_info": {
   "codemirror_mode": {
    "name": "ipython",
    "version": 3
   },
   "file_extension": ".py",
   "mimetype": "text/x-python",
   "name": "python",
   "nbconvert_exporter": "python",
   "pygments_lexer": "ipython3",
   "version": "3.7.3"
  }
 },
 "nbformat": 4,
 "nbformat_minor": 2
}
