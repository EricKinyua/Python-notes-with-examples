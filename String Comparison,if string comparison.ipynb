{
 "cells": [
  {
   "cell_type": "code",
   "execution_count": 1,
   "metadata": {},
   "outputs": [
    {
     "name": "stdout",
     "output_type": "stream",
     "text": [
      "False\n"
     ]
    }
   ],
   "source": [
    "print(\"hello\"<\"Hello\")"
   ]
  },
  {
   "cell_type": "code",
   "execution_count": 2,
   "metadata": {},
   "outputs": [
    {
     "name": "stdout",
     "output_type": "stream",
     "text": [
      "False\n"
     ]
    }
   ],
   "source": [
    "print(\"Aardvark\" > \"Zebra\")"
   ]
  },
  {
   "cell_type": "code",
   "execution_count": 3,
   "metadata": {},
   "outputs": [
    {
     "name": "stdout",
     "output_type": "stream",
     "text": [
      "True\n"
     ]
    }
   ],
   "source": [
    "print('student' != 'Student')"
   ]
  },
  {
   "cell_type": "code",
   "execution_count": 4,
   "metadata": {},
   "outputs": [
    {
     "name": "stdout",
     "output_type": "stream",
     "text": [
      "True\n"
     ]
    }
   ],
   "source": [
    "msg=\"Hello\"\n",
    "\n",
    "print(msg==\"Hello\")"
   ]
  },
  {
   "cell_type": "code",
   "execution_count": 5,
   "metadata": {},
   "outputs": [
    {
     "name": "stdout",
     "output_type": "stream",
     "text": [
      "Please say HelloHello\n",
      "True\n"
     ]
    }
   ],
   "source": [
    "msg=input(\"Please say Hello\")\n",
    "greeting=\"Hello\"\n",
    "\n",
    "print(msg==greeting)"
   ]
  },
  {
   "cell_type": "code",
   "execution_count": 9,
   "metadata": {},
   "outputs": [
    {
     "name": "stdout",
     "output_type": "stream",
     "text": [
      "What is 8+13?21\n",
      "You are smart\n"
     ]
    }
   ],
   "source": [
    "answer=input(\"What is 8+13?\")\n",
    "\n",
    "if answer==\"21\":\n",
    "    print(\"You are smart\")\n",
    "else:\n",
    "    print(\"Try one more time\")"
   ]
  },
  {
   "cell_type": "code",
   "execution_count": 16,
   "metadata": {},
   "outputs": [
    {
     "name": "stdout",
     "output_type": "stream",
     "text": [
      "One year has 365daysf\n",
      "Your answer is incorrect\n"
     ]
    }
   ],
   "source": [
    "#t/F Quiz\n",
    "#tf_quiz() has 2 parameters which are both string arguments\n",
    "#question: a string containg a T/F question like \"Should save your notebook after edit?(T/F): \"\n",
    "#correct_ans: a string indicating the correct answer, either \"T\" or \"F\"\n",
    "#tf_quiz() returns a string: \"correct\" or \"incorrect\"\n",
    "#Test tf_quiz(): create a T/F question (or several!) to call tf_quiz()\n",
    "# [ ] Create the program, run tests\n",
    "\n",
    "\n",
    "def tf_quiz(question,cor_ans):\n",
    "    \n",
    "    if question.lower()==cor_ans:\n",
    "        return \"correct\"\n",
    "    else:\n",
    "        return \"incorrect\"\n",
    "    \n",
    "question=input(\"One year has 365days\")\n",
    "cor_ans=\"t\"\n",
    "\n",
    "printable=tf_quiz(question,cor_ans)\n",
    "\n",
    "\n",
    "print(\"Your answer is\", printable)"
   ]
  },
  {
   "cell_type": "code",
   "execution_count": null,
   "metadata": {},
   "outputs": [],
   "source": []
  }
 ],
 "metadata": {
  "kernelspec": {
   "display_name": "Python 3",
   "language": "python",
   "name": "python3"
  },
  "language_info": {
   "codemirror_mode": {
    "name": "ipython",
    "version": 3
   },
   "file_extension": ".py",
   "mimetype": "text/x-python",
   "name": "python",
   "nbconvert_exporter": "python",
   "pygments_lexer": "ipython3",
   "version": "3.7.3"
  }
 },
 "nbformat": 4,
 "nbformat_minor": 2
}
