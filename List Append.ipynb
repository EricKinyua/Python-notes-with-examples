{
 "cells": [
  {
   "cell_type": "code",
   "execution_count": 1,
   "metadata": {},
   "outputs": [
    {
     "name": "stdout",
     "output_type": "stream",
     "text": [
      "[100, 50, 60, 70, 80, 90]\n"
     ]
    }
   ],
   "source": [
    "# Currency Values\n",
    "# [ ] create a list of 3 or more currency denomination values\n",
    "\n",
    "currency_values=[100, 50, 60, 70,80, 90]\n",
    "print(currency_values)\n"
   ]
  },
  {
   "cell_type": "code",
   "execution_count": 2,
   "metadata": {},
   "outputs": [
    {
     "name": "stdout",
     "output_type": "stream",
     "text": [
      "[100, 50, 60, 70, 80, 90, 40]\n"
     ]
    }
   ],
   "source": [
    "currency_values.append(40)\n",
    "\n",
    "print(currency_values)"
   ]
  },
  {
   "cell_type": "code",
   "execution_count": 3,
   "metadata": {},
   "outputs": [
    {
     "name": "stdout",
     "output_type": "stream",
     "text": [
      "['penny', 'cent', 'dollar']\n"
     ]
    }
   ],
   "source": [
    "# Currency Names\n",
    "# [ ] create a list of 3 or more currency denomination NAMES\n",
    "\n",
    "currency_names=[\"penny\", \"cent\",\"dollar\"]\n",
    "print(currency_names)"
   ]
  },
  {
   "cell_type": "code",
   "execution_count": 5,
   "metadata": {},
   "outputs": [
    {
     "name": "stdout",
     "output_type": "stream",
     "text": [
      "['penny', 'cent', 'dollar', 'pound']\n"
     ]
    }
   ],
   "source": [
    "currency_names.append(\"pound\")\n",
    "\n",
    "print(currency_names)"
   ]
  },
  {
   "cell_type": "code",
   "execution_count": null,
   "metadata": {},
   "outputs": [],
   "source": []
  }
 ],
 "metadata": {
  "kernelspec": {
   "display_name": "Python 3",
   "language": "python",
   "name": "python3"
  },
  "language_info": {
   "codemirror_mode": {
    "name": "ipython",
    "version": 3
   },
   "file_extension": ".py",
   "mimetype": "text/x-python",
   "name": "python",
   "nbconvert_exporter": "python",
   "pygments_lexer": "ipython3",
   "version": "3.7.3"
  }
 },
 "nbformat": 4,
 "nbformat_minor": 2
}
