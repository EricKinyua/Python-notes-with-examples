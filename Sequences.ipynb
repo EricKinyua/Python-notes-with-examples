{
 "cells": [
  {
   "cell_type": "code",
   "execution_count": 2,
   "metadata": {},
   "outputs": [
    {
     "name": "stdout",
     "output_type": "stream",
     "text": [
      "Hat available is True\n"
     ]
    }
   ],
   "source": [
    "def hat_available(color):\n",
    "    hat_colors=\"black, red, Green, blue, white, grey, brown, pink\"\n",
    "    return(color.lower() in hat_colors.lower())\n",
    "\n",
    "have_hat=hat_available(\"green\")\n",
    "\n",
    "print(\"Hat available is\", have_hat)"
   ]
  },
  {
   "cell_type": "code",
   "execution_count": 8,
   "metadata": {},
   "outputs": [
    {
     "name": "stdout",
     "output_type": "stream",
     "text": [
      "What bird  should we search for?hen\n",
      "available= False\n"
     ]
    }
   ],
   "source": [
    "def bird_available(available=input(\"What bird  should we search for?\")):\n",
    "    bird_types=\"crow, robin, parrot, eagle, sandpiper, hawk, pigeon\"\n",
    "    return(available.lower() in bird_types.lower())\n",
    "\n",
    "print(\"available=\",bird_available() )"
   ]
  },
  {
   "cell_type": "code",
   "execution_count": 10,
   "metadata": {},
   "outputs": [
    {
     "name": "stdout",
     "output_type": "stream",
     "text": [
      "Enter how many you want:54\n",
      "54  will be ordered\n"
     ]
    }
   ],
   "source": [
    "def how_many():\n",
    "    requested=input(\"Enter how many you want:\")\n",
    "    return requested\n",
    "\n",
    "print(how_many(), \" will be ordered\")"
   ]
  },
  {
   "cell_type": "code",
   "execution_count": null,
   "metadata": {},
   "outputs": [],
   "source": []
  }
 ],
 "metadata": {
  "kernelspec": {
   "display_name": "Python 3",
   "language": "python",
   "name": "python3"
  },
  "language_info": {
   "codemirror_mode": {
    "name": "ipython",
    "version": 3
   },
   "file_extension": ".py",
   "mimetype": "text/x-python",
   "name": "python",
   "nbconvert_exporter": "python",
   "pygments_lexer": "ipython3",
   "version": "3.7.3"
  }
 },
 "nbformat": 4,
 "nbformat_minor": 2
}
