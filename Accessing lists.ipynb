{
 "cells": [
  {
   "cell_type": "code",
   "execution_count": 1,
   "metadata": {},
   "outputs": [
    {
     "name": "stdout",
     "output_type": "stream",
     "text": [
      "NO PARKING on Ngara\n"
     ]
    }
   ],
   "source": [
    "street= [\"Ngara\", \"Parklands\", \"Westlands\", \"Umoja\", \"Buru\"]\n",
    "\n",
    "print(\"NO PARKING on\", street[0])"
   ]
  },
  {
   "cell_type": "code",
   "execution_count": 2,
   "metadata": {},
   "outputs": [
    {
     "name": "stdout",
     "output_type": "stream",
     "text": [
      "82\n"
     ]
    }
   ],
   "source": [
    "num_2_add= [10, 12, 15, 25, 20]\n",
    "\n",
    "print(num_2_add[0]+num_2_add[1]+num_2_add[2]+num_2_add[3]+num_2_add[4])"
   ]
  },
  {
   "cell_type": "code",
   "execution_count": 3,
   "metadata": {},
   "outputs": [
    {
     "name": "stdout",
     "output_type": "stream",
     "text": [
      " Total of checks 3 & 4 = $ 1500\n"
     ]
    }
   ],
   "source": [
    "# [ ] Review & Run, but ***Do Not Edit*** this code cell\n",
    "# [ ] Fix the error by only editing and running the block below\n",
    "\n",
    "pay_checks=[400,50,1000,500,100]\n",
    "\n",
    "print(\" Total of checks 3 & 4 = $\", pay_checks[2] + pay_checks[3])"
   ]
  },
  {
   "cell_type": "code",
   "execution_count": null,
   "metadata": {},
   "outputs": [],
   "source": []
  }
 ],
 "metadata": {
  "kernelspec": {
   "display_name": "Python 3",
   "language": "python",
   "name": "python3"
  },
  "language_info": {
   "codemirror_mode": {
    "name": "ipython",
    "version": 3
   },
   "file_extension": ".py",
   "mimetype": "text/x-python",
   "name": "python",
   "nbconvert_exporter": "python",
   "pygments_lexer": "ipython3",
   "version": "3.7.3"
  }
 },
 "nbformat": 4,
 "nbformat_minor": 2
}
