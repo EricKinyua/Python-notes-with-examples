{
 "cells": [
  {
   "cell_type": "code",
   "execution_count": 1,
   "metadata": {},
   "outputs": [
    {
     "name": "stdout",
     "output_type": "stream",
     "text": [
      "What do people call you?trent Alexander\n",
      "That cannot be it \n",
      "\n",
      "What do people call you?Trent\n",
      "Oh! Nice to meet you \n",
      " Trent\n"
     ]
    }
   ],
   "source": [
    "#Get Name Program \n",
    "\n",
    "familiar_name=\"\"\n",
    "while True:\n",
    "    familiar_name=input(\"What do people call you?\")\n",
    "    \n",
    "    if familiar_name.isalpha():\n",
    "        print(\"Oh! Nice to meet you \\n\", familiar_name)\n",
    "        break\n",
    "    else:\n",
    "        print(\"That cannot be it \\n\")"
   ]
  },
  {
   "cell_type": "code",
   "execution_count": 2,
   "metadata": {},
   "outputs": [
    {
     "name": "stdout",
     "output_type": "stream",
     "text": [
      "Enter weather (sunny, rainy, snowy, or quit): cloudy\n",
      "\n",
      "Sorry, not sure what to suggest for cloudy\n",
      "\n",
      "Enter weather (sunny, rainy, snowy, or quit): rainy\n",
      "\n",
      "Bring an umbrella and boots\n"
     ]
    }
   ],
   "source": [
    "# [ ] review WHAT TO WEAR code then run testing different inputs\n",
    "\n",
    "while True:\n",
    "    weather = input(\"Enter weather (sunny, rainy, snowy, or quit): \") \n",
    "    print()\n",
    "\n",
    "    if weather.lower() == \"sunny\":\n",
    "        print(\"Wear a t-shirt and sunscreen\")\n",
    "        break\n",
    "    elif weather.lower() == \"rainy\":\n",
    "        print(\"Bring an umbrella and boots\")\n",
    "        break\n",
    "    elif weather.lower() == \"snowy\":\n",
    "        print(\"Wear a warm coat and hat\")\n",
    "        break\n",
    "    elif weather.lower().startswith(\"q\"):\n",
    "        print('\"quit\" detected, exiting')\n",
    "        break\n",
    "    else:\n",
    "        print(\"Sorry, not sure what to suggest for\", weather +\"\\n\")"
   ]
  },
  {
   "cell_type": "code",
   "execution_count": 4,
   "metadata": {},
   "outputs": [
    {
     "name": "stdout",
     "output_type": "stream",
     "text": [
      "What size do you need?M\n",
      "What size do you need?M\n",
      "What size do you need?M\n",
      "What size do you need?M\n",
      "What size do you need?M\n",
      "What size do you need?M\n",
      "We are out of shirts\n"
     ]
    }
   ],
   "source": [
    "#Incrementing a variable\n",
    "\n",
    "#Shirt Count\n",
    "size_count=0\n",
    "S=0\n",
    "M=0\n",
    "L=0\n",
    "total=6\n",
    "\n",
    "while True:\n",
    "    size=input(\"What size do you need?\")\n",
    "    \n",
    "    if size==\"S\":\n",
    "        S+=1\n",
    "    elif size==\"M\":\n",
    "        M+=1\n",
    "    elif size==\"L\":\n",
    "        L+=1\n",
    "    else:\n",
    "        print(\"We do not have the requested size\")\n",
    "        \n",
    "    size_count +=1\n",
    "    if size_count>=total:\n",
    "        print(\"We are out of shirts\")\n",
    "        break"
   ]
  },
  {
   "cell_type": "code",
   "execution_count": null,
   "metadata": {},
   "outputs": [],
   "source": []
  }
 ],
 "metadata": {
  "kernelspec": {
   "display_name": "Python 3",
   "language": "python",
   "name": "python3"
  },
  "language_info": {
   "codemirror_mode": {
    "name": "ipython",
    "version": 3
   },
   "file_extension": ".py",
   "mimetype": "text/x-python",
   "name": "python",
   "nbconvert_exporter": "python",
   "pygments_lexer": "ipython3",
   "version": "3.7.3"
  }
 },
 "nbformat": 4,
 "nbformat_minor": 2
}
