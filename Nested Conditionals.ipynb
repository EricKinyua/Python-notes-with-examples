{
 "cells": [
  {
   "cell_type": "code",
   "execution_count": 3,
   "metadata": {},
   "outputs": [
    {
     "name": "stdout",
     "output_type": "stream",
     "text": [
      "Say Hello?(y/n)n\n",
      "Friendly nod\n"
     ]
    }
   ],
   "source": [
    "#SayHello\n",
    "\n",
    "greeting=input(\"Say Hello?(y/n)\")\n",
    "\n",
    "if greeting.lower()==\"y\":\n",
    "    hellotype=input(\"Full Hello?(y/n)\")\n",
    "    \n",
    "    if hellotype==\"y\":\n",
    "        print(\"Hello\")\n",
    "    else:\n",
    "        print(\"Hi\")\n",
    "else:\n",
    "    print(\"Friendly nod\")\n"
   ]
  },
  {
   "cell_type": "code",
   "execution_count": 13,
   "metadata": {},
   "outputs": [
    {
     "name": "stdout",
     "output_type": "stream",
     "text": [
      "Guess the type of bird:flamingo\n",
      "Go you! Only needed one try\n"
     ]
    }
   ],
   "source": [
    "#Guess the bird\n",
    "\n",
    "bird_names= \"parrot, hawk ,eagle, dove\"\n",
    "\n",
    "bird_guess=input(\"Guess the type of bird:\")\n",
    "\n",
    "if bird_guess in bird_names==False:\n",
    "    guess2=input(\"Please try again:\")\n",
    "    \n",
    "    if guess2 in bird_names==False:\n",
    "        guess3=input(\"One last try:\")\n",
    "    \n",
    "        if guess3 in bird_names==False:\n",
    "            print(\"Game Over!\")\n",
    "        else:\n",
    "            print(\"Phew! You got it\")\n",
    "    else:\n",
    "        print(\"Second attempt is the Charm\")\n",
    "else:\n",
    "    print(\"Go you! Only needed one try\")"
   ]
  },
  {
   "cell_type": "code",
   "execution_count": null,
   "metadata": {},
   "outputs": [],
   "source": []
  }
 ],
 "metadata": {
  "kernelspec": {
   "display_name": "Python 3",
   "language": "python",
   "name": "python3"
  },
  "language_info": {
   "codemirror_mode": {
    "name": "ipython",
    "version": 3
   },
   "file_extension": ".py",
   "mimetype": "text/x-python",
   "name": "python",
   "nbconvert_exporter": "python",
   "pygments_lexer": "ipython3",
   "version": "3.7.3"
  }
 },
 "nbformat": 4,
 "nbformat_minor": 2
}
