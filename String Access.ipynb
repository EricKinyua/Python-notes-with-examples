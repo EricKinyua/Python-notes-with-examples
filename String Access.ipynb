{
 "cells": [
  {
   "cell_type": "code",
   "execution_count": 2,
   "metadata": {},
   "outputs": [
    {
     "name": "stdout",
     "output_type": "stream",
     "text": [
      "N\n",
      "i\n",
      "o\n"
     ]
    }
   ],
   "source": [
    "street_name=\"Nairobi\"\n",
    "\n",
    "print(street_name[0])\n",
    "print(street_name[2])\n",
    "print(street_name[4])"
   ]
  },
  {
   "cell_type": "code",
   "execution_count": 7,
   "metadata": {},
   "outputs": [
    {
     "name": "stdout",
     "output_type": "stream",
     "text": [
      "Select a team name(second character must be i,o,u)Arsenal\n",
      "Select a better name please\n"
     ]
    }
   ],
   "source": [
    "team_name=input(\"Select a team name(second character must be i,o,u)\")\n",
    "\n",
    "if team_name[1].lower()==\"i\":\n",
    "    print(\"Cool name\",team_name)\n",
    "elif team_name[1].lower()==\"o\":\n",
    "    print(\"Great name\", team_name)\n",
    "elif team_name[1].lower()==\"u\":\n",
    "    print(\"Fantastic name\", team_name)\n",
    "else:\n",
    "    print(\"Select a better name please\")"
   ]
  },
  {
   "cell_type": "code",
   "execution_count": null,
   "metadata": {},
   "outputs": [],
   "source": []
  }
 ],
 "metadata": {
  "kernelspec": {
   "display_name": "Python 3",
   "language": "python",
   "name": "python3"
  },
  "language_info": {
   "codemirror_mode": {
    "name": "ipython",
    "version": 3
   },
   "file_extension": ".py",
   "mimetype": "text/x-python",
   "name": "python",
   "nbconvert_exporter": "python",
   "pygments_lexer": "ipython3",
   "version": "3.7.3"
  }
 },
 "nbformat": 4,
 "nbformat_minor": 2
}
