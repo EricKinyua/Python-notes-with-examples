{
 "cells": [
  {
   "cell_type": "code",
   "execution_count": 5,
   "metadata": {},
   "outputs": [
    {
     "name": "stdout",
     "output_type": "stream",
     "text": [
      "Come here\n"
     ]
    }
   ],
   "source": [
    "def yell_it():\n",
    "    print(\"Come here\")\n",
    "    \n",
    "yell_it()"
   ]
  },
  {
   "cell_type": "code",
   "execution_count": 7,
   "metadata": {},
   "outputs": [
    {
     "name": "stdout",
     "output_type": "stream",
     "text": [
      "What should we yell?Get over here\n",
      "Get over here!\n"
     ]
    }
   ],
   "source": [
    "def words_to_yell(phrase=input(\"What should we yell?\")):\n",
    "    print(phrase + \"!\")\n",
    "    \n",
    "words_to_yell()"
   ]
  },
  {
   "cell_type": "code",
   "execution_count": 9,
   "metadata": {},
   "outputs": [
    {
     "name": "stdout",
     "output_type": "stream",
     "text": [
      "What is your name?Kinyua\n",
      "Dr. Kinyua\n"
     ]
    }
   ],
   "source": [
    "def make_doctor(phrase=input(\"What is your name?\")):\n",
    "    fullname=\"Dr. \" + phrase\n",
    "    return fullname\n",
    "print(make_doctor())"
   ]
  },
  {
   "cell_type": "code",
   "execution_count": 2,
   "metadata": {},
   "outputs": [
    {
     "name": "stdout",
     "output_type": "stream",
     "text": [
      "SCHEDULE: ('[1st]Mathematics', '[2nd]History', '[3rd]Kiswahili')\n"
     ]
    }
   ],
   "source": [
    "def make_schedule(period1, period2, period3):\n",
    "    schedule= (\"[1st]\" + period1.title() ,\"[2nd]\" + period2.title(), \"[3rd]\" + period3.title())\n",
    "    return schedule\n",
    "\n",
    "student_schedule=make_schedule(\"mathematics\",\"history\",\"kiswahili\")\n",
    "\n",
    "print(\"SCHEDULE:\", student_schedule )"
   ]
  },
  {
   "cell_type": "code",
   "execution_count": null,
   "metadata": {},
   "outputs": [],
   "source": []
  }
 ],
 "metadata": {
  "kernelspec": {
   "display_name": "Python 3",
   "language": "python",
   "name": "python3"
  },
  "language_info": {
   "codemirror_mode": {
    "name": "ipython",
    "version": 3
   },
   "file_extension": ".py",
   "mimetype": "text/x-python",
   "name": "python",
   "nbconvert_exporter": "python",
   "pygments_lexer": "ipython3",
   "version": "3.7.3"
  }
 },
 "nbformat": 4,
 "nbformat_minor": 2
}
